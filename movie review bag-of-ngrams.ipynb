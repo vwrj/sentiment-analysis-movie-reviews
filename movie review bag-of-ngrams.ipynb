{
 "cells": [
  {
   "cell_type": "markdown",
   "metadata": {},
   "source": [
    "### One-time loading of data from text files"
   ]
  },
  {
   "cell_type": "code",
   "execution_count": 15,
   "metadata": {},
   "outputs": [],
   "source": [
    "import os\n",
    "import random\n",
    "import spacy\n",
    "import string\n",
    "from os import listdir\n",
    "import pickle as pkl\n",
    "import torch\n",
    "import matplotlib\n",
    "import matplotlib.pyplot as plt"
   ]
  },
  {
   "cell_type": "code",
   "execution_count": null,
   "metadata": {},
   "outputs": [],
   "source": [
    "'''\n",
    "Data loading code inspired from: https://machinelearningmastery.com/prepare-movie-review-data-sentiment-analysis/\n",
    "'''\n",
    "\n",
    "# load doc into memory\n",
    "def load_doc(filename):\n",
    "    file = open(filename, 'r')\n",
    "    text = file.read()\n",
    "    file.close()\n",
    "    return text\n",
    " \n",
    "# load all docs in a directory\n",
    "def process_docs(directory, data):\n",
    "    # walk through all files in the folder\n",
    "    i = 0\n",
    "    for filename in listdir(directory):\n",
    "        # skip files that do not have the right extension\n",
    "        if not filename.endswith(\".txt\"):\n",
    "            continue\n",
    "        # create the full path of the file to open\n",
    "        path = directory + '/' + filename\n",
    "        # load document\n",
    "        data.append(load_doc(path))\n",
    "        i += 1\n",
    "    print(\"Loaded {} files from {}\".format(i, directory))\n",
    "    return i"
   ]
  },
  {
   "cell_type": "code",
   "execution_count": null,
   "metadata": {},
   "outputs": [],
   "source": [
    "TRAIN_DATA_DIR = '/Users/vrajiv/Downloads/lab3/aclImdb/train/'\n",
    "TEST_DATA_DIR = '/Users/vrajiv/Downloads/lab3/aclImdb/test/'\n",
    "TRAIN_VAL_SPLIT = 20000\n",
    "SEED = 1\n",
    "\n",
    "full_train_data = []\n",
    "\n",
    "num_pos = process_docs(TRAIN_DATA_DIR + 'pos', full_train_data)\n",
    "num_neg = process_docs(TRAIN_DATA_DIR + 'neg', full_train_data)\n",
    "\n",
    "full_train_labels = [0] * (num_pos + num_neg)\n",
    "for i in range(num_pos):\n",
    "    full_train_labels[i] = 1\n",
    "\n",
    "# randomly shuffle data \n",
    "# do it for labels as well, so they get shuffled the same way\n",
    "random.Random(SEED).shuffle(full_train_data)\n",
    "random.Random(SEED).shuffle(full_train_labels)\n",
    "\n",
    "# Split train data into actual train and validation sets\n",
    "train_data = full_train_data[:TRAIN_VAL_SPLIT]\n",
    "val_data = full_train_data[TRAIN_VAL_SPLIT:]\n",
    "\n",
    "# Same for labels\n",
    "train_labels = full_train_labels[:TRAIN_VAL_SPLIT]\n",
    "val_labels = full_train_labels[TRAIN_VAL_SPLIT:]\n",
    "\n",
    "print(\"Total length of train data: {}\".format(len(train_data)))\n",
    "print(\"Total length of validation data: {}\".format(len(val_data)))\n",
    "\n",
    "\n",
    "###\n",
    "### TEST DATA \n",
    "###\n",
    "\n",
    "test_data = []\n",
    "\n",
    "num_pos = process_docs(TEST_DATA_DIR + 'pos', test_data)\n",
    "num_neg = process_docs(TEST_DATA_DIR + 'neg', test_data)\n",
    "\n",
    "test_labels = [0] * (num_pos + num_neg)\n",
    "for i in range(num_pos):\n",
    "    test_labels[i] = 1\n",
    "\n",
    "# randomly shuffle data\n",
    "random.Random(SEED).shuffle(test_data)\n",
    "random.Random(SEED).shuffle(test_labels)\n",
    "print(\"Total length of test data: {}\".format(len(test_data)))"
   ]
  },
  {
   "cell_type": "code",
   "execution_count": null,
   "metadata": {},
   "outputs": [],
   "source": [
    "# verify that labels (sentiment) and reviews match in train data. \n",
    "def verify_match(data, labels):\n",
    "    rand_seed = random.randint(1, 101)\n",
    "    print(random.Random(rand_seed).choice(data))\n",
    "    print(random.Random(rand_seed).choice(labels))"
   ]
  },
  {
   "cell_type": "code",
   "execution_count": null,
   "metadata": {},
   "outputs": [],
   "source": [
    "verify_match(train_data, train_labels)"
   ]
  },
  {
   "cell_type": "code",
   "execution_count": null,
   "metadata": {},
   "outputs": [],
   "source": [
    "verify_match(val_data, val_labels)"
   ]
  },
  {
   "cell_type": "markdown",
   "metadata": {},
   "source": [
    "### Storing train/val/test as lists -- pickle"
   ]
  },
  {
   "cell_type": "code",
   "execution_count": null,
   "metadata": {},
   "outputs": [],
   "source": [
    "with open('movie_review_train_data.p', 'wb') as f:\n",
    "    pkl.dump(train_data, f)\n",
    "    \n",
    "with open('movie_review_train_labels.p', 'wb') as f:\n",
    "    pkl.dump(train_labels, f)\n",
    "    \n",
    "with open('movie_review_val_data.p', 'wb') as f:\n",
    "    pkl.dump(val_data, f)\n",
    "    \n",
    "with open('movie_review_val_labels.p', 'wb') as f:\n",
    "    pkl.dump(val_labels, f)\n",
    "    \n",
    "with open('movie_review_test_data.p', 'wb') as f:\n",
    "    pkl.dump(test_data, f)\n",
    "    \n",
    "with open('movie_review_test_labels.p', 'wb') as f:\n",
    "    pkl.dump(test_labels, f)"
   ]
  },
  {
   "cell_type": "markdown",
   "metadata": {},
   "source": [
    "### Fetching train/val/test data -- pickle"
   ]
  },
  {
   "cell_type": "code",
   "execution_count": 2,
   "metadata": {},
   "outputs": [],
   "source": [
    "train_data = pkl.load(open(\"movie_review_train_data.p\", \"rb\"))\n",
    "train_labels = pkl.load(open(\"movie_review_train_labels.p\", \"rb\"))\n",
    "val_data = pkl.load(open(\"movie_review_val_data.p\", \"rb\"))\n",
    "val_labels = pkl.load(open(\"movie_review_val_labels.p\", \"rb\"))\n",
    "test_data = pkl.load(open(\"movie_review_test_data.p\", \"rb\"))\n",
    "test_labels = pkl.load(open(\"movie_review_test_labels.p\", \"rb\"))"
   ]
  },
  {
   "cell_type": "code",
   "execution_count": 3,
   "metadata": {
    "collapsed": true
   },
   "outputs": [
    {
     "data": {
      "text/plain": [
       "\"The kids I took to this movie loved it (four children, ages 9 to 12 years; they would have given it 10 stars). Emma Roberts was adorable in the title role. (Expect to see more of this next-generation Roberts in the future.) After being over exposed to the likes of Britney Spears, Lindsay Lohan, and Paris Hilton, it was refreshing to see a girl who didn't look like she worked the streets. Also enjoyed seeing a supporting cast that included Tate Donovan, Rachel Leigh Cook, Barry Bostwick, and Monica Parker (with a cameo by Bruce Willis). Final takeaway: Cute film.<br /><br />(Note: I did not read the book series, so my comments are based on the merits of the film alone.)\""
      ]
     },
     "execution_count": 3,
     "metadata": {},
     "output_type": "execute_result"
    }
   ],
   "source": [
    "random.choice(train_data)"
   ]
  },
  {
   "cell_type": "markdown",
   "metadata": {},
   "source": [
    "### Some things I notice from examining training set data\n",
    "\n",
    "I see ... html tags, hex codes. On average, good grammar so that's cool.   \n",
    "Filter out html tags + hex codes? Not sure.  \n",
    "Also not sure if I want to filter out exclamation marks/question marks. That might be very useful for expressing a sentiment. "
   ]
  },
  {
   "cell_type": "markdown",
   "metadata": {},
   "source": [
    "### Tokenization"
   ]
  },
  {
   "cell_type": "code",
   "execution_count": null,
   "metadata": {},
   "outputs": [],
   "source": [
    "# Let's write the tokenization function \n",
    "\n",
    "# Load English tokenizer, tagger, parser, NER and word vectors\n",
    "tokenizer = spacy.load('en_core_web_sm')\n",
    "punctuations = string.punctuation\n",
    "\n",
    "# lowercase and remove punctuation\n",
    "def tokenize(sent):\n",
    "    tokens = tokenizer(sent)\n",
    "    return [token.text.lower() for token in tokens if (token.text not in punctuations)]\n",
    "\n",
    "# Example\n",
    "tokens = tokenize(u'Apple is looking at buying U.K. startup for $1 billion')\n",
    "print (tokens)"
   ]
  },
  {
   "cell_type": "code",
   "execution_count": null,
   "metadata": {},
   "outputs": [],
   "source": [
    "def tokenize_dataset(dataset):\n",
    "    token_dataset = []\n",
    "    # we are keeping track of all tokens in dataset \n",
    "    # in order to create vocabulary later\n",
    "    all_tokens = []\n",
    "    \n",
    "    for sample in dataset:\n",
    "        tokens = tokenize(sample)\n",
    "        token_dataset.append(tokens)\n",
    "        all_tokens += tokens\n",
    "\n",
    "    return token_dataset, all_tokens\n",
    "\n",
    "# # val set tokens\n",
    "# print (\"Tokenizing val data\")\n",
    "# val_data_tokens, _ = tokenize_dataset(val_data)\n",
    "# pkl.dump(val_data_tokens, open(\"movie_review_val_data_tokens.p\", \"wb\"))\n",
    "\n",
    "# # test set tokens\n",
    "# print (\"Tokenizing test data\")\n",
    "# test_data_tokens, _ = tokenize_dataset(test_data)\n",
    "# pkl.dump(test_data_tokens, open(\"movie_review_test_data_tokens.p\", \"wb\"))\n",
    "\n",
    "# # train set tokens\n",
    "# print (\"Tokenizing train data\")\n",
    "# train_data_tokens, all_train_tokens = tokenize_dataset(train_data)\n",
    "# pkl.dump(train_data_tokens, open(\"movie_review_train_data_tokens.p\", \"wb\"))\n",
    "# pkl.dump(all_train_tokens, open(\"movie_review_all_train_tokens.p\", \"wb\"))"
   ]
  },
  {
   "cell_type": "markdown",
   "metadata": {},
   "source": [
    "### Loading tokenized data"
   ]
  },
  {
   "cell_type": "code",
   "execution_count": 4,
   "metadata": {},
   "outputs": [
    {
     "name": "stdout",
     "output_type": "stream",
     "text": [
      "Train dataset size is 20000\n",
      "Val dataset size is 5000\n",
      "Test dataset size is 25000\n",
      "Total number of tokens in train dataset is 4812532\n"
     ]
    }
   ],
   "source": [
    "# load tokenized train, val and test datasets\n",
    "train_data_tokens = pkl.load(open(\"movie_review_train_data_tokens.p\", \"rb\"))\n",
    "all_train_tokens = pkl.load(open(\"movie_review_all_train_tokens.p\", \"rb\"))\n",
    "\n",
    "val_data_tokens = pkl.load(open(\"movie_review_val_data_tokens.p\", \"rb\"))\n",
    "test_data_tokens = pkl.load(open(\"movie_review_test_data_tokens.p\", \"rb\"))\n",
    "\n",
    "# double checking\n",
    "print (\"Train dataset size is {}\".format(len(train_data_tokens)))\n",
    "print (\"Val dataset size is {}\".format(len(val_data_tokens)))\n",
    "print (\"Test dataset size is {}\".format(len(test_data_tokens)))\n",
    "\n",
    "print (\"Total number of tokens in train dataset is {}\".format(len(all_train_tokens)))"
   ]
  },
  {
   "cell_type": "markdown",
   "metadata": {},
   "source": [
    "### Build vocabulary from most common tokens"
   ]
  },
  {
   "cell_type": "code",
   "execution_count": 7,
   "metadata": {},
   "outputs": [],
   "source": [
    "from collections import Counter\n",
    "# save index 0 for unk and 1 for pad\n",
    "PAD_IDX = 0\n",
    "UNK_IDX = 1\n",
    "\n",
    "'''\n",
    "Inspired from: http://locallyoptimal.com/blog/2013/01/20/elegant-n-gram-generation-in-python/\n",
    "'''\n",
    "def generate_bag_ngrams(n, tokens):\n",
    "    return zip(*[tokens[i:] for i in range(n)])\n",
    "\n",
    "def build_vocab(all_tokens):\n",
    "    # Returns:\n",
    "    # id2token: list of tokens, where id2token[i] returns token that corresponds to token i\n",
    "    # token2id: dictionary where keys represent tokens and corresponding values represent indices\n",
    "    token_counter = Counter(all_tokens)\n",
    "    vocab, count = zip(*token_counter.most_common(VOCAB_SIZE))\n",
    "    id2token = list(vocab)\n",
    "    token2id = dict(zip(vocab, range(2,2+len(vocab)))) \n",
    "    id2token = ['<pad>', '<unk>'] + id2token\n",
    "    token2id['<pad>'] = PAD_IDX \n",
    "    token2id['<unk>'] = UNK_IDX\n",
    "    return token2id, id2token\n",
    "\n",
    "# token2id, id2token = build_vocab(generate_bag_ngrams(NGRAM_SIZE, all_train_tokens))"
   ]
  },
  {
   "cell_type": "markdown",
   "metadata": {},
   "source": [
    "### \"One-hot encoding\"\n",
    "#### Represent each movie review as a vector of indices in our vocabulary"
   ]
  },
  {
   "cell_type": "code",
   "execution_count": 8,
   "metadata": {},
   "outputs": [],
   "source": [
    "# convert token to id in the dataset\n",
    "def token2index_dataset(tokens_data):\n",
    "    indices_data = []\n",
    "    for tokens in tokens_data:\n",
    "        index_list = [token2id[token] if token in token2id else UNK_IDX for token in tokens]\n",
    "        indices_data.append(index_list)\n",
    "    return indices_data "
   ]
  },
  {
   "cell_type": "markdown",
   "metadata": {},
   "source": [
    "### Defining PyTorch Data Loader"
   ]
  },
  {
   "cell_type": "code",
   "execution_count": 9,
   "metadata": {},
   "outputs": [],
   "source": [
    "MAX_SENTENCE_LENGTH = 200\n",
    "\n",
    "import numpy as np\n",
    "import torch\n",
    "from torch.utils.data import Dataset\n",
    "\n",
    "class MovieReviewDataset(Dataset):\n",
    "    \"\"\"\n",
    "    Class that represents a train/validation/test dataset that's readable for PyTorch\n",
    "    Note that this class inherits torch.utils.data.Dataset\n",
    "    \"\"\"\n",
    "    \n",
    "    def __init__(self, data_list, target_list):\n",
    "        \"\"\"\n",
    "        @param data_list: list of movie review tokens \n",
    "        @param target_list: list of movie review targets \n",
    "\n",
    "        \"\"\"\n",
    "        self.data_list = data_list\n",
    "        self.target_list = target_list\n",
    "        assert (len(self.data_list) == len(self.target_list))\n",
    "\n",
    "    def __len__(self):\n",
    "        return len(self.data_list)\n",
    "        \n",
    "    def __getitem__(self, key):\n",
    "        \"\"\"\n",
    "        Triggered when you call dataset[i]\n",
    "        \"\"\"\n",
    "        \n",
    "        token_idx = self.data_list[key][:MAX_SENTENCE_LENGTH]\n",
    "        label = self.target_list[key]\n",
    "        return [token_idx, len(token_idx), label]\n",
    "\n",
    "def moviereview_collate_func(batch):\n",
    "    \"\"\"\n",
    "    Customized function for DataLoader that dynamically pads the batch so that all \n",
    "    data have the same length\n",
    "    \"\"\"\n",
    "    data_list = []\n",
    "    label_list = []\n",
    "    length_list = []\n",
    "    #print(\"collate batch: \", batch[0][0])\n",
    "    #batch[0][0] = batch[0][0][:MAX_SENTENCE_LENGTH]\n",
    "    for datum in batch:\n",
    "        label_list.append(datum[2])\n",
    "        length_list.append(datum[1])\n",
    "    # padding\n",
    "    for datum in batch:\n",
    "        padded_vec = np.pad(np.array(datum[0]), \n",
    "                                pad_width=((0,MAX_SENTENCE_LENGTH-datum[1])), \n",
    "                                mode=\"constant\", constant_values=0)\n",
    "        data_list.append(padded_vec)\n",
    "    return [torch.from_numpy(np.array(data_list)), torch.LongTensor(length_list), torch.LongTensor(label_list)]\n",
    "\n",
    "# create pytorch dataloader\n",
    "#train_loader = NewsGroupDataset(train_data_indices, train_targets)\n",
    "#val_loader = NewsGroupDataset(val_data_indices, val_targets)\n",
    "#test_loader = NewsGroupDataset(test_data_indices, test_targets)"
   ]
  },
  {
   "cell_type": "markdown",
   "metadata": {},
   "source": [
    "### Defining Bag-of-Ngrams model in PyTorch"
   ]
  },
  {
   "cell_type": "code",
   "execution_count": 10,
   "metadata": {},
   "outputs": [],
   "source": [
    "import torch\n",
    "import torch.nn as nn\n",
    "import torch.nn.functional as F\n",
    "\n",
    "class BagOfWords(nn.Module):\n",
    "    \"\"\"\n",
    "    BagOfWords classification model\n",
    "    \"\"\"\n",
    "    def __init__(self, vocab_size, emb_dim):\n",
    "        \"\"\"\n",
    "        @param vocab_size: size of the vocabulary. \n",
    "        @param emb_dim: size of the word embedding\n",
    "        \"\"\"\n",
    "        super(BagOfWords, self).__init__()\n",
    "        # pay attention to padding_idx \n",
    "        self.embed = nn.Embedding(vocab_size, emb_dim, padding_idx=0)\n",
    "        self.linear = nn.Linear(emb_dim,2)\n",
    "    \n",
    "    def forward(self, data, length):\n",
    "        \"\"\"\n",
    "        \n",
    "        @param data: matrix of size (batch_size, max_sentence_length). Each row in data represents a \n",
    "            review that is represented using n-gram index. Note that they are padded to have same length.\n",
    "        @param length: an int tensor of size (batch_size), which represents the non-trivial (excludes padding)\n",
    "            length of each sentences in the data.\n",
    "        \"\"\"\n",
    "        out = self.embed(data)\n",
    "        out = torch.sum(out, dim=1)\n",
    "        out /= length.view(length.size()[0],1).expand_as(out).float()\n",
    "     \n",
    "        # Apply the linear function to get our logit (real numbers)\n",
    "        logit = self.linear(out.float())\n",
    "        \n",
    "        return logit"
   ]
  },
  {
   "cell_type": "code",
   "execution_count": 34,
   "metadata": {},
   "outputs": [],
   "source": [
    "# Function for testing the model\n",
    "def test_model(loader, model):\n",
    "    \"\"\"\n",
    "    Help function that tests the model's performance on a dataset\n",
    "    @param: loader - data loader for the dataset to test against\n",
    "    \"\"\"\n",
    "    correct = 0\n",
    "    total = 0\n",
    "    model.eval()\n",
    "    for data, lengths, labels in loader:\n",
    "        data_batch, length_batch, label_batch = data, lengths, labels\n",
    "        outputs = F.softmax(model(data_batch, length_batch), dim=1)\n",
    "        predicted = outputs.max(1, keepdim=True)[1]\n",
    "#         predicted = torch.tensor([1 if x >= 0.5 else 0 for x in outputs[:, 1]]      )\n",
    "        total += labels.size(0)\n",
    "        correct += predicted.eq(labels.view_as(predicted)).sum().item()\n",
    "    return (100 * correct / total)\n",
    "\n",
    "def train_model(model,\n",
    "              lr = 0.005, \n",
    "              num_epochs = 4, \n",
    "              criterion = nn.CrossEntropyLoss()):\n",
    "    optimizer = torch.optim.Adam(model.parameters(), lr=lr)\n",
    "    losses = []\n",
    "    xs = 0\n",
    "    val_accs = []\n",
    "    for epoch in range(num_epochs):\n",
    "        for i, (data, lengths, labels) in enumerate(train_loader):\n",
    "            model.train()\n",
    "            data_batch, length_batch, label_batch = data, lengths, labels\n",
    "            optimizer.zero_grad()\n",
    "            outputs = model(data_batch, length_batch)\n",
    "            loss = criterion(outputs, label_batch)\n",
    "            losses.append(loss)\n",
    "            loss.backward()\n",
    "            optimizer.step()\n",
    "            # validate every 100 iterations\n",
    "            if i > 0 and i % 100 == 0:\n",
    "                # validate\n",
    "                val_acc = test_model(val_loader, model)\n",
    "                xs = xs + 100\n",
    "                val_accs.append(val_acc)\n",
    "                print('Epoch: [{}/{}], Step: [{}/{}], Validation Acc: {}'.format( \n",
    "                           epoch+1, num_epochs, i+1, len(train_loader), val_acc))\n",
    "    return losses, xs, val_accs"
   ]
  },
  {
   "cell_type": "markdown",
   "metadata": {},
   "source": [
    "## Full, one-click model run (quick hyperparameter tuning)"
   ]
  },
  {
   "cell_type": "code",
   "execution_count": 24,
   "metadata": {},
   "outputs": [
    {
     "name": "stdout",
     "output_type": "stream",
     "text": [
      "Token id 2007 ; token ('production', 'values')\n",
      "Token ('production', 'values'); token id 2007\n",
      "Train dataset size is 20000\n",
      "Val dataset size is 5000\n",
      "Test dataset size is 25000\n",
      "tensor([[1098, 1658, 2447,  ...,    0,    0,    0],\n",
      "        [2243,  786, 2080,  ...,    1,    1,    1],\n",
      "        [ 883, 5421,    1,  ...,    0,    0,    0],\n",
      "        ...,\n",
      "        [   1,    1,    1,  ...,    0,    0,    0],\n",
      "        [ 389,    1,   58,  ...,  657, 3913,    1],\n",
      "        [1294,   46,    1,  ...,    0,    0,    0]])\n",
      "tensor([175, 200, 168, 200, 200, 200, 149, 117, 200, 200, 200, 112, 200,  55,\n",
      "        200, 200, 147, 195, 133, 200, 200, 200, 200, 200, 200, 101, 108, 170,\n",
      "        200, 147, 200, 186])\n",
      "tensor([1, 0, 0, 1, 0, 1, 1, 1, 1, 0, 1, 1, 1, 0, 0, 1, 0, 0, 0, 0, 0, 0, 0, 0,\n",
      "        0, 1, 1, 1, 1, 1, 0, 1])\n"
     ]
    }
   ],
   "source": [
    "VOCAB_SIZE = 10000\n",
    "NGRAM_SIZE = 2\n",
    "EMBED_DIM = 100\n",
    "LEARNING_RATE = 0.005\n",
    "NUM_EPOCHS = 4\n",
    "\n",
    "token2id, id2token = build_vocab(generate_bag_ngrams(NGRAM_SIZE, all_train_tokens))\n",
    "\n",
    "# Lets check the dictionary by loading random token from it\n",
    "\n",
    "random_token_id = random.randint(0, len(id2token)-1)\n",
    "random_token = id2token[random_token_id]\n",
    "\n",
    "print (\"Token id {} ; token {}\".format(random_token_id, id2token[random_token_id]))\n",
    "print (\"Token {}; token id {}\".format(random_token, token2id[random_token]))\n",
    "\n",
    "ngram_train_data_tokens = [list(generate_bag_ngrams(NGRAM_SIZE, review)) for review in train_data_tokens]\n",
    "ngram_val_data_tokens = [list(generate_bag_ngrams(NGRAM_SIZE, review)) for review in val_data_tokens]\n",
    "ngram_test_data_tokens = [list(generate_bag_ngrams(NGRAM_SIZE, review)) for review in test_data_tokens]\n",
    "\n",
    "train_data_indices = token2index_dataset(ngram_train_data_tokens)\n",
    "val_data_indices = token2index_dataset(ngram_val_data_tokens)\n",
    "test_data_indices = token2index_dataset(ngram_test_data_tokens)\n",
    "\n",
    "# double checking\n",
    "print (\"Train dataset size is {}\".format(len(train_data_indices)))\n",
    "print (\"Val dataset size is {}\".format(len(val_data_indices)))\n",
    "print (\"Test dataset size is {}\".format(len(test_data_indices)))\n",
    "\n",
    "BATCH_SIZE = 32\n",
    "train_dataset = MovieReviewDataset(train_data_indices, train_labels)\n",
    "train_loader = torch.utils.data.DataLoader(dataset=train_dataset, \n",
    "                                           batch_size=BATCH_SIZE,\n",
    "                                           collate_fn=moviereview_collate_func,\n",
    "                                           shuffle=True)\n",
    "\n",
    "val_dataset = MovieReviewDataset(val_data_indices, val_labels)\n",
    "val_loader = torch.utils.data.DataLoader(dataset=val_dataset, \n",
    "                                           batch_size=BATCH_SIZE,\n",
    "                                           collate_fn=moviereview_collate_func,\n",
    "                                           shuffle=True)\n",
    "\n",
    "test_dataset = MovieReviewDataset(test_data_indices, test_labels)\n",
    "test_loader = torch.utils.data.DataLoader(dataset=test_dataset, \n",
    "                                           batch_size=BATCH_SIZE,\n",
    "                                           collate_fn=moviereview_collate_func,\n",
    "                                           shuffle=False)\n",
    "\n",
    "for i, (data, lengths, labels) in enumerate(train_loader):\n",
    "    print (data)\n",
    "    print(lengths)\n",
    "    print (labels)\n",
    "    break"
   ]
  },
  {
   "cell_type": "code",
   "execution_count": 35,
   "metadata": {},
   "outputs": [
    {
     "name": "stdout",
     "output_type": "stream",
     "text": [
      "Epoch: [1/4], Step: [101/625], Validation Acc: 71.26\n",
      "Epoch: [1/4], Step: [201/625], Validation Acc: 72.52\n",
      "Epoch: [1/4], Step: [301/625], Validation Acc: 79.96\n",
      "Epoch: [1/4], Step: [401/625], Validation Acc: 80.88\n",
      "Epoch: [1/4], Step: [501/625], Validation Acc: 82.28\n",
      "Epoch: [1/4], Step: [601/625], Validation Acc: 82.74\n",
      "Epoch: [2/4], Step: [101/625], Validation Acc: 80.42\n",
      "Epoch: [2/4], Step: [201/625], Validation Acc: 82.74\n",
      "Epoch: [2/4], Step: [301/625], Validation Acc: 82.66\n",
      "Epoch: [2/4], Step: [401/625], Validation Acc: 82.84\n",
      "Epoch: [2/4], Step: [501/625], Validation Acc: 83.12\n",
      "Epoch: [2/4], Step: [601/625], Validation Acc: 83.36\n",
      "Epoch: [3/4], Step: [101/625], Validation Acc: 83.26\n",
      "Epoch: [3/4], Step: [201/625], Validation Acc: 82.0\n",
      "Epoch: [3/4], Step: [301/625], Validation Acc: 83.08\n",
      "Epoch: [3/4], Step: [401/625], Validation Acc: 82.68\n",
      "Epoch: [3/4], Step: [501/625], Validation Acc: 83.12\n",
      "Epoch: [3/4], Step: [601/625], Validation Acc: 83.18\n",
      "Epoch: [4/4], Step: [101/625], Validation Acc: 82.62\n",
      "Epoch: [4/4], Step: [201/625], Validation Acc: 81.34\n",
      "Epoch: [4/4], Step: [301/625], Validation Acc: 82.34\n",
      "Epoch: [4/4], Step: [401/625], Validation Acc: 82.38\n",
      "Epoch: [4/4], Step: [501/625], Validation Acc: 81.98\n",
      "Epoch: [4/4], Step: [601/625], Validation Acc: 82.38\n"
     ]
    }
   ],
   "source": [
    "model = BagOfWords(len(id2token), EMBED_DIM)\n",
    "\n",
    "losses, xs, val_accs = train_model(model,\n",
    "          lr = LEARNING_RATE, \n",
    "          num_epochs = NUM_EPOCHS, \n",
    "          criterion = nn.CrossEntropyLoss())"
   ]
  },
  {
   "cell_type": "code",
   "execution_count": 46,
   "metadata": {},
   "outputs": [
    {
     "data": {
      "text/plain": [
       "Text(0,0.5,'Val Acc')"
      ]
     },
     "execution_count": 46,
     "metadata": {},
     "output_type": "execute_result"
    },
    {
     "data": {
      "image/png": "[encoded data removed]",
      "text/plain": [
       "<Figure size 720x360 with 2 Axes>"
      ]
     },
     "metadata": {
      "needs_background": "light"
     },
     "output_type": "display_data"
    }
   ],
   "source": [
    "fig = plt.figure(figsize=(10, 5))\n",
    "fig.subplots_adjust(hspace=0.4, wspace=0.4)\n",
    "\n",
    "plt.subplot(1, 2, 1)\n",
    "plt.plot(range(len(losses)), losses)\n",
    "plt.title('Training Curve')\n",
    "plt.xlabel('step')\n",
    "plt.ylabel('Train Loss')\n",
    "\n",
    "plt.subplot(1, 2, 2)\n",
    "plt.plot(range(0, xs, 100), val_accs)\n",
    "plt.title('Validation Accuracy Curve')\n",
    "plt.xlabel('Step')\n",
    "plt.ylabel('Val Acc')"
   ]
  },
  {
   "cell_type": "code",
   "execution_count": null,
   "metadata": {},
   "outputs": [],
   "source": [
    "print (\"After training for {} epochs\".format(num_epochs))\n",
    "print (\"Val Acc {}\".format(test_model(val_loader, model)))\n",
    "print (\"Test Acc {}\".format(test_model(test_loader, model)))"
   ]
  },
  {
   "cell_type": "markdown",
   "metadata": {},
   "source": [
    "#### Standard architecture: \n",
    "2-gram, embed 100, vocab 10000, tokenization scheme (same as lab),   \n",
    "learning_rate = 0.005"
   ]
  },
  {
   "cell_type": "markdown",
   "metadata": {},
   "source": [
    "| Hyperparameters              | val_accuracy (%) |\n",
    "|------------------------------|------------------|\n",
    "| Standard                     | 83.16            |\n",
    "| 1-gram                       | 86.80            |\n",
    "| 3-gram                       | 77.48            |\n",
    "| 4-gram                       | 71.0             |\n",
    "| vocab: 30,000                | 85.48            |\n",
    "| vocab: 50,000                | 85.82            |\n",
    "| embedding: 300               | 83.2             |\n",
    "| embedding: 500               | 83.48            |\n",
    "| 1-gram, embed 300, vocab 50k | 88.02            |\n",
    "| 1-gram, embed 500, vocab 50k | 87.90            |\n",
    "| 2-gram, embed 300, vocab 50k | 85.28            |\n",
    "| 2-gram, embed 500, vocab 50k | 85.52            |\n",
    "| 3-gram, embed 300, vocab 50k | 81.21            |\n",
    "| 3-gram, embed 500, vocab 50k | 81.48            |"
   ]
  }
 ],
 "metadata": {
  "kernelspec": {
   "display_name": "Python 3",
   "language": "python",
   "name": "python3"
  },
  "language_info": {
   "codemirror_mode": {
    "name": "ipython",
    "version": 3
   },
   "file_extension": ".py",
   "mimetype": "text/x-python",
   "name": "python",
   "nbconvert_exporter": "python",
   "pygments_lexer": "ipython3",
   "version": "3.6.6"
  }
 },
 "nbformat": 4,
 "nbformat_minor": 2
}
