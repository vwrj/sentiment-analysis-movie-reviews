{
 "cells": [
  {
   "cell_type": "markdown",
   "metadata": {},
   "source": [
    "## Results first\n",
    "#### Because why not. "
   ]
  },
  {
   "cell_type": "markdown",
   "metadata": {},
   "source": [
    "**Standard architecture**: \n",
    "2-gram, embed 100, vocab 10000, tokenization scheme (same as lab),   \n",
    "learning_rate = 0.005, num_epochs = 4. "
   ]
  },
  {
   "cell_type": "markdown",
   "metadata": {},
   "source": [
    "| Hyperparameters                        | val_accuracy (%) |\n",
    "|----------------------------------------|------------------|\n",
    "| Standard                               | 83.16            |\n",
    "| 1-gram                                 | 86.80            |\n",
    "| 3-gram                                 | 77.48            |\n",
    "| 4-gram                                 | 71.0             |\n",
    "| 1-gram + tok_scheme: remove stop words | 88.48            |\n",
    "| vocab: 30,000                          | 85.48            |\n",
    "| vocab: 50,000                          | 85.82            |\n",
    "| embedding: 300                         | 83.2             |\n",
    "| embedding: 500                         | 83.48            |\n",
    "| 1-gram, embed 300, vocab 50k           | 88.02            |\n",
    "| 1-gram, embed 500, vocab 50k           | 87.90            |\n",
    "| 2-gram, embed 300, vocab 50k           | 85.28            |\n",
    "| 2-gram, embed 500, vocab 50k           | 85.52            |\n",
    "| 3-gram, embed 300, vocab 50k           | 81.21            |\n",
    "| 3-gram, embed 500, vocab 50k           | 81.36            |"
   ]
  },
  {
   "cell_type": "markdown",
   "metadata": {},
   "source": [
    "### Now the code. "
   ]
  },
  {
   "cell_type": "markdown",
   "metadata": {},
   "source": [
    "### One-time loading of data from text files"
   ]
  },
  {
   "cell_type": "code",
   "execution_count": 1,
   "metadata": {},
   "outputs": [],
   "source": [
    "import os\n",
    "import random\n",
    "import spacy\n",
    "import string\n",
    "from os import listdir\n",
    "import pickle as pkl\n",
    "import torch\n",
    "import matplotlib\n",
    "import matplotlib.pyplot as plt\n",
    "from spacy.lang.en.stop_words import STOP_WORDS"
   ]
  },
  {
   "cell_type": "code",
   "execution_count": null,
   "metadata": {},
   "outputs": [],
   "source": [
    "'''\n",
    "Data loading code inspired from: https://machinelearningmastery.com/prepare-movie-review-data-sentiment-analysis/\n",
    "'''\n",
    "\n",
    "# load doc into memory\n",
    "def load_doc(filename):\n",
    "    file = open(filename, 'r')\n",
    "    text = file.read()\n",
    "    file.close()\n",
    "    return text\n",
    " \n",
    "# load all docs in a directory\n",
    "def process_docs(directory, data):\n",
    "    # walk through all files in the folder\n",
    "    i = 0\n",
    "    for filename in listdir(directory):\n",
    "        # skip files that do not have the right extension\n",
    "        if not filename.endswith(\".txt\"):\n",
    "            continue\n",
    "        # create the full path of the file to open\n",
    "        path = directory + '/' + filename\n",
    "        # load document\n",
    "        data.append(load_doc(path))\n",
    "        i += 1\n",
    "    print(\"Loaded {} files from {}\".format(i, directory))\n",
    "    return i"
   ]
  },
  {
   "cell_type": "code",
   "execution_count": null,
   "metadata": {},
   "outputs": [],
   "source": [
    "TRAIN_DATA_DIR = '/Users/vrajiv/Desktop/NLP Class/lab3/aclImdb/train/'\n",
    "TEST_DATA_DIR = '/Users/vrajiv/Desktop/NLP Class/lab3/aclImdb/test/'\n",
    "TRAIN_VAL_SPLIT = 20000\n",
    "SEED = 1\n",
    "\n",
    "full_train_data = []\n",
    "\n",
    "num_pos = process_docs(TRAIN_DATA_DIR + 'pos', full_train_data)\n",
    "num_neg = process_docs(TRAIN_DATA_DIR + 'neg', full_train_data)\n",
    "\n",
    "full_train_labels = [0] * (num_pos + num_neg)\n",
    "for i in range(num_pos):\n",
    "    full_train_labels[i] = 1\n",
    "\n",
    "# randomly shuffle data \n",
    "# do it for labels as well, so they get shuffled the same way\n",
    "random.Random(SEED).shuffle(full_train_data)\n",
    "random.Random(SEED).shuffle(full_train_labels)\n",
    "\n",
    "# Split train data into actual train and validation sets\n",
    "train_data = full_train_data[:TRAIN_VAL_SPLIT]\n",
    "val_data = full_train_data[TRAIN_VAL_SPLIT:]\n",
    "\n",
    "# Same for labels\n",
    "train_labels = full_train_labels[:TRAIN_VAL_SPLIT]\n",
    "val_labels = full_train_labels[TRAIN_VAL_SPLIT:]\n",
    "\n",
    "print(\"Total length of train data: {}\".format(len(train_data)))\n",
    "print(\"Total length of validation data: {}\".format(len(val_data)))\n",
    "\n",
    "\n",
    "###\n",
    "### TEST DATA \n",
    "###\n",
    "\n",
    "test_data = []\n",
    "\n",
    "num_pos = process_docs(TEST_DATA_DIR + 'pos', test_data)\n",
    "num_neg = process_docs(TEST_DATA_DIR + 'neg', test_data)\n",
    "\n",
    "test_labels = [0] * (num_pos + num_neg)\n",
    "for i in range(num_pos):\n",
    "    test_labels[i] = 1\n",
    "\n",
    "# randomly shuffle data\n",
    "random.Random(SEED).shuffle(test_data)\n",
    "random.Random(SEED).shuffle(test_labels)\n",
    "print(\"Total length of test data: {}\".format(len(test_data)))"
   ]
  },
  {
   "cell_type": "code",
   "execution_count": null,
   "metadata": {},
   "outputs": [],
   "source": [
    "# verify that labels (sentiment) and reviews match in train data. \n",
    "def verify_match(data, labels):\n",
    "    rand_seed = random.randint(1, 101)\n",
    "    print(random.Random(rand_seed).choice(data))\n",
    "    print(random.Random(rand_seed).choice(labels))"
   ]
  },
  {
   "cell_type": "code",
   "execution_count": null,
   "metadata": {},
   "outputs": [],
   "source": [
    "verify_match(train_data, train_labels)"
   ]
  },
  {
   "cell_type": "code",
   "execution_count": null,
   "metadata": {},
   "outputs": [],
   "source": [
    "verify_match(val_data, val_labels)"
   ]
  },
  {
   "cell_type": "markdown",
   "metadata": {},
   "source": [
    "### Storing train/val/test as lists -- pickle"
   ]
  },
  {
   "cell_type": "code",
   "execution_count": null,
   "metadata": {},
   "outputs": [],
   "source": [
    "with open('movie_review_train_data.p', 'wb') as f:\n",
    "    pkl.dump(train_data, f)\n",
    "    \n",
    "with open('movie_review_train_labels.p', 'wb') as f:\n",
    "    pkl.dump(train_labels, f)\n",
    "    \n",
    "with open('movie_review_val_data.p', 'wb') as f:\n",
    "    pkl.dump(val_data, f)\n",
    "    \n",
    "with open('movie_review_val_labels.p', 'wb') as f:\n",
    "    pkl.dump(val_labels, f)\n",
    "    \n",
    "with open('movie_review_test_data.p', 'wb') as f:\n",
    "    pkl.dump(test_data, f)\n",
    "    \n",
    "with open('movie_review_test_labels.p', 'wb') as f:\n",
    "    pkl.dump(test_labels, f)"
   ]
  },
  {
   "cell_type": "markdown",
   "metadata": {},
   "source": [
    "### Fetching train/val/test data -- pickle"
   ]
  },
  {
   "cell_type": "code",
   "execution_count": 2,
   "metadata": {},
   "outputs": [],
   "source": [
    "train_data = pkl.load(open(\"movie_review_train_data.p\", \"rb\"))\n",
    "train_labels = pkl.load(open(\"movie_review_train_labels.p\", \"rb\"))\n",
    "val_data = pkl.load(open(\"movie_review_val_data.p\", \"rb\"))\n",
    "val_labels = pkl.load(open(\"movie_review_val_labels.p\", \"rb\"))\n",
    "test_data = pkl.load(open(\"movie_review_test_data.p\", \"rb\"))\n",
    "test_labels = pkl.load(open(\"movie_review_test_labels.p\", \"rb\"))"
   ]
  },
  {
   "cell_type": "code",
   "execution_count": 4,
   "metadata": {
    "collapsed": true
   },
   "outputs": [
    {
     "data": {
      "text/plain": [
       "\"This definitely is NOT the intellectual film with profound mission, so I really don't think there is too much not to understand to in case you aren't Czech.<br /><br />It's just a comedy. The humor is simple, pretty funny and sometimes, maybe, little morbid. Some actors and characters are very similar to Samotári (2000) (Jirí Machácek, Ivan Trojan, Vladimír Dlouhý) so the authors are. But it doesn't matter, the genre is really different and these two films shouldn't be compared in this way. Jedna ruka netleská won't try to give you a lesson, it will try to make you laugh and there is some chance it will succeed.<br /><br />Not bad film, not the ingenious one, but I enjoyed it. Some scenes are truly worth seeing.\""
      ]
     },
     "execution_count": 4,
     "metadata": {},
     "output_type": "execute_result"
    }
   ],
   "source": [
    "random.choice(train_data)"
   ]
  },
  {
   "cell_type": "markdown",
   "metadata": {},
   "source": [
    "### Some things I notice from examining training set data\n",
    "\n",
    "I see ... html tags, hex codes. On average, good grammar so that's cool.   \n",
    "Filter out html tags + hex codes? Not sure.  \n",
    "Also not sure if I want to filter out exclamation marks/question marks. That might be very useful for expressing a sentiment. "
   ]
  },
  {
   "cell_type": "markdown",
   "metadata": {},
   "source": [
    "### Tokenization (standard scheme from lab + 2nd scheme: remove stop words)"
   ]
  },
  {
   "cell_type": "code",
   "execution_count": 5,
   "metadata": {},
   "outputs": [
    {
     "name": "stdout",
     "output_type": "stream",
     "text": [
      "['apple', 'looking', 'buying', 'u.k.', 'startup', '1', 'billion']\n"
     ]
    }
   ],
   "source": [
    "tokenizer = spacy.load('en_core_web_sm')\n",
    "punctuations = string.punctuation\n",
    "\n",
    "# lowercase and remove punctuation as well as stop words (for 2nd tokenization scheme\n",
    "def tokenize(sent):\n",
    "    tokens = tokenizer(sent)\n",
    "    return [token.text.lower() for token in tokens if (token.text not in punctuations and token.text not in STOP_WORDS)]\n",
    "\n",
    "# Example\n",
    "tokens = tokenize(u'Apple is looking at buying U.K. startup for $1 billion')\n",
    "print (tokens)"
   ]
  },
  {
   "cell_type": "code",
   "execution_count": 6,
   "metadata": {},
   "outputs": [
    {
     "name": "stdout",
     "output_type": "stream",
     "text": [
      "Tokenizing val data\n",
      "Tokenizing test data\n",
      "Tokenizing train data\n"
     ]
    }
   ],
   "source": [
    "def tokenize_dataset(dataset):\n",
    "    token_dataset = []\n",
    "    # we are keeping track of all tokens in dataset \n",
    "    # in order to create vocabulary later\n",
    "    all_tokens = []\n",
    "    \n",
    "    for sample in dataset:\n",
    "        tokens = tokenize(sample)\n",
    "        token_dataset.append(tokens)\n",
    "        all_tokens += tokens\n",
    "\n",
    "    return token_dataset, all_tokens\n",
    "\n",
    "# # val set tokens\n",
    "# print (\"Tokenizing val data\")\n",
    "# val_data_tokens, _ = tokenize_dataset(val_data)\n",
    "# pkl.dump(val_data_tokens, open(\"movie_review_val_data_tokens.p\", \"wb\"))\n",
    "\n",
    "# # test set tokens\n",
    "# print (\"Tokenizing test data\")\n",
    "# test_data_tokens, _ = tokenize_dataset(test_data)\n",
    "# pkl.dump(test_data_tokens, open(\"movie_review_test_data_tokens.p\", \"wb\"))\n",
    "\n",
    "# # train set tokens\n",
    "# print (\"Tokenizing train data\")\n",
    "# train_data_tokens, all_train_tokens = tokenize_dataset(train_data)\n",
    "# pkl.dump(train_data_tokens, open(\"movie_review_train_data_tokens.p\", \"wb\"))\n",
    "# pkl.dump(all_train_tokens, open(\"movie_review_all_train_tokens.p\", \"wb\"))\n",
    "\n",
    "###\n",
    "### REMOVING STOP WORDS\n",
    "###\n",
    "\n",
    "# # # val set tokens\n",
    "# print (\"Tokenizing val data\")\n",
    "# val_data_tokens, _ = tokenize_dataset(val_data)\n",
    "# pkl.dump(val_data_tokens, open(\"movie_review_val_data_tokens_stop_words.p\", \"wb\"))\n",
    "\n",
    "# # # test set tokens\n",
    "# print (\"Tokenizing test data\")\n",
    "# test_data_tokens, _ = tokenize_dataset(test_data)\n",
    "# pkl.dump(test_data_tokens, open(\"movie_review_test_data_tokens_stop_words.p\", \"wb\"))\n",
    "\n",
    "# # # train set tokens\n",
    "# print (\"Tokenizing train data\")\n",
    "# train_data_tokens, all_train_tokens = tokenize_dataset(train_data)\n",
    "# pkl.dump(train_data_tokens, open(\"movie_review_train_data_tokens_stop_words.p\", \"wb\"))\n",
    "# pkl.dump(all_train_tokens, open(\"movie_review_all_train_tokens_stop_words.p\", \"wb\"))"
   ]
  },
  {
   "cell_type": "markdown",
   "metadata": {},
   "source": [
    "### Loading tokenized data"
   ]
  },
  {
   "cell_type": "code",
   "execution_count": 7,
   "metadata": {},
   "outputs": [
    {
     "name": "stdout",
     "output_type": "stream",
     "text": [
      "Train dataset size is 20000\n",
      "Val dataset size is 5000\n",
      "Test dataset size is 25000\n",
      "Total number of tokens in train dataset is 2519291\n"
     ]
    }
   ],
   "source": [
    "# load tokenized train, val and test datasets\n",
    "# train_data_tokens = pkl.load(open(\"movie_review_train_data_tokens.p\", \"rb\"))\n",
    "# all_train_tokens = pkl.load(open(\"movie_review_all_train_tokens.p\", \"rb\"))\n",
    "# val_data_tokens = pkl.load(open(\"movie_review_val_data_tokens.p\", \"rb\"))\n",
    "# test_data_tokens = pkl.load(open(\"movie_review_test_data_tokens.p\", \"rb\"))\n",
    "\n",
    "### STOP WORDS -- scheme\n",
    "train_data_tokens = pkl.load(open(\"movie_review_train_data_tokens_stop_words.p\", \"rb\"))\n",
    "all_train_tokens = pkl.load(open(\"movie_review_all_train_tokens_stop_words.p\", \"rb\"))\n",
    "val_data_tokens = pkl.load(open(\"movie_review_val_data_tokens_stop_words.p\", \"rb\"))\n",
    "test_data_tokens = pkl.load(open(\"movie_review_test_data_tokens_stop_words.p\", \"rb\"))\n",
    "\n",
    "# double checking\n",
    "print (\"Train dataset size is {}\".format(len(train_data_tokens)))\n",
    "print (\"Val dataset size is {}\".format(len(val_data_tokens)))\n",
    "print (\"Test dataset size is {}\".format(len(test_data_tokens)))\n",
    "\n",
    "print (\"Total number of tokens in train dataset is {}\".format(len(all_train_tokens)))"
   ]
  },
  {
   "cell_type": "markdown",
   "metadata": {},
   "source": [
    "### Build vocabulary from most common tokens"
   ]
  },
  {
   "cell_type": "code",
   "execution_count": 8,
   "metadata": {},
   "outputs": [],
   "source": [
    "from collections import Counter\n",
    "# save index 0 for unk and 1 for pad\n",
    "PAD_IDX = 0\n",
    "UNK_IDX = 1\n",
    "\n",
    "'''\n",
    "Inspired from: http://locallyoptimal.com/blog/2013/01/20/elegant-n-gram-generation-in-python/\n",
    "'''\n",
    "def generate_bag_ngrams(n, tokens):\n",
    "    return zip(*[tokens[i:] for i in range(n)])\n",
    "\n",
    "def build_vocab(all_tokens):\n",
    "    # Returns:\n",
    "    # id2token: list of tokens, where id2token[i] returns token that corresponds to token i\n",
    "    # token2id: dictionary where keys represent tokens and corresponding values represent indices\n",
    "    token_counter = Counter(all_tokens)\n",
    "    vocab, count = zip(*token_counter.most_common(VOCAB_SIZE))\n",
    "    id2token = list(vocab)\n",
    "    token2id = dict(zip(vocab, range(2,2+len(vocab)))) \n",
    "    id2token = ['<pad>', '<unk>'] + id2token\n",
    "    token2id['<pad>'] = PAD_IDX \n",
    "    token2id['<unk>'] = UNK_IDX\n",
    "    return token2id, id2token"
   ]
  },
  {
   "cell_type": "markdown",
   "metadata": {},
   "source": [
    "### \"One-hot encoding\"\n",
    "#### Represent each movie review as a vector of indices in our vocabulary"
   ]
  },
  {
   "cell_type": "code",
   "execution_count": 9,
   "metadata": {},
   "outputs": [],
   "source": [
    "# convert token to id in the dataset\n",
    "def token2index_dataset(tokens_data):\n",
    "    indices_data = []\n",
    "    for tokens in tokens_data:\n",
    "        index_list = [token2id[token] if token in token2id else UNK_IDX for token in tokens]\n",
    "        indices_data.append(index_list)\n",
    "    return indices_data "
   ]
  },
  {
   "cell_type": "markdown",
   "metadata": {},
   "source": [
    "### Defining PyTorch Data Loader"
   ]
  },
  {
   "cell_type": "code",
   "execution_count": 10,
   "metadata": {},
   "outputs": [],
   "source": [
    "MAX_SENTENCE_LENGTH = 200\n",
    "\n",
    "import numpy as np\n",
    "import torch\n",
    "from torch.utils.data import Dataset\n",
    "\n",
    "class MovieReviewDataset(Dataset):\n",
    "    \"\"\"\n",
    "    Class that represents a train/validation/test dataset that's readable for PyTorch\n",
    "    Note that this class inherits torch.utils.data.Dataset\n",
    "    \"\"\"\n",
    "    \n",
    "    def __init__(self, data_list, target_list):\n",
    "        \"\"\"\n",
    "        @param data_list: list of movie review tokens \n",
    "        @param target_list: list of movie review targets \n",
    "\n",
    "        \"\"\"\n",
    "        self.data_list = data_list\n",
    "        self.target_list = target_list\n",
    "        assert (len(self.data_list) == len(self.target_list))\n",
    "\n",
    "    def __len__(self):\n",
    "        return len(self.data_list)\n",
    "        \n",
    "    def __getitem__(self, key):\n",
    "        \"\"\"\n",
    "        Triggered when you call dataset[i]\n",
    "        \"\"\"\n",
    "        \n",
    "        token_idx = self.data_list[key][:MAX_SENTENCE_LENGTH]\n",
    "        label = self.target_list[key]\n",
    "        return [token_idx, len(token_idx), label]\n",
    "\n",
    "def moviereview_collate_func(batch):\n",
    "    \"\"\"\n",
    "    Customized function for DataLoader that dynamically pads the batch so that all \n",
    "    data have the same length\n",
    "    \"\"\"\n",
    "    data_list = []\n",
    "    label_list = []\n",
    "    length_list = []\n",
    "    #print(\"collate batch: \", batch[0][0])\n",
    "    #batch[0][0] = batch[0][0][:MAX_SENTENCE_LENGTH]\n",
    "    for datum in batch:\n",
    "        label_list.append(datum[2])\n",
    "        length_list.append(datum[1])\n",
    "    # padding\n",
    "    for datum in batch:\n",
    "        padded_vec = np.pad(np.array(datum[0]), \n",
    "                                pad_width=((0,MAX_SENTENCE_LENGTH-datum[1])), \n",
    "                                mode=\"constant\", constant_values=0)\n",
    "        data_list.append(padded_vec)\n",
    "    return [torch.from_numpy(np.array(data_list)), torch.LongTensor(length_list), torch.LongTensor(label_list)]"
   ]
  },
  {
   "cell_type": "markdown",
   "metadata": {},
   "source": [
    "### Defining Bag-of-Ngrams model in PyTorch"
   ]
  },
  {
   "cell_type": "code",
   "execution_count": 11,
   "metadata": {},
   "outputs": [],
   "source": [
    "import torch\n",
    "import torch.nn as nn\n",
    "import torch.nn.functional as F\n",
    "\n",
    "class BagOfWords(nn.Module):\n",
    "    \"\"\"\n",
    "    BagOfWords classification model\n",
    "    \"\"\"\n",
    "    def __init__(self, vocab_size, emb_dim):\n",
    "        \"\"\"\n",
    "        @param vocab_size: size of the vocabulary. \n",
    "        @param emb_dim: size of the word embedding\n",
    "        \"\"\"\n",
    "        super(BagOfWords, self).__init__()\n",
    "        # pay attention to padding_idx \n",
    "        self.embed = nn.Embedding(vocab_size, emb_dim, padding_idx=0)\n",
    "        self.linear = nn.Linear(emb_dim,2)\n",
    "    \n",
    "    def forward(self, data, length):\n",
    "        \"\"\"\n",
    "        \n",
    "        @param data: matrix of size (batch_size, max_sentence_length). Each row in data represents a \n",
    "            review that is represented using n-gram index. Note that they are padded to have same length.\n",
    "        @param length: an int tensor of size (batch_size), which represents the non-trivial (excludes padding)\n",
    "            length of each sentences in the data.\n",
    "        \"\"\"\n",
    "        out = self.embed(data)\n",
    "        out = torch.sum(out, dim=1)\n",
    "        out /= length.view(length.size()[0],1).expand_as(out).float()\n",
    "     \n",
    "        # Apply the linear function to get our logit (real numbers)\n",
    "        logit = self.linear(out.float())\n",
    "        \n",
    "        return logit"
   ]
  },
  {
   "cell_type": "code",
   "execution_count": 29,
   "metadata": {},
   "outputs": [],
   "source": [
    "# Function for testing the model\n",
    "def test_model(loader, model):\n",
    "    \"\"\"\n",
    "    Help function that tests the model's performance on a dataset\n",
    "    @param: loader - data loader for the dataset to test against\n",
    "    \"\"\"\n",
    "    correct = 0\n",
    "    total = 0\n",
    "    model.eval()\n",
    "    for data, lengths, labels in loader:\n",
    "        data_batch, length_batch, label_batch = data, lengths, labels\n",
    "        outputs = F.softmax(model(data_batch, length_batch), dim=1)\n",
    "        predicted = outputs.max(1, keepdim=True)[1]\n",
    "#         predicted = torch.tensor([1 if x >= 0.5 else 0 for x in outputs[:, 1]]      )\n",
    "        total += labels.size(0)\n",
    "        correct += predicted.eq(labels.view_as(predicted)).sum().item()\n",
    "    return (100 * correct / total)\n",
    "\n",
    "def train_model(model,\n",
    "              lr = 0.005, \n",
    "              num_epochs = 4, \n",
    "              criterion = nn.CrossEntropyLoss()):\n",
    "    optimizer = torch.optim.Adam(model.parameters(), lr=lr) # wd: linear\n",
    "    losses = []\n",
    "    xs = 0\n",
    "    val_accs = []\n",
    "    for epoch in range(num_epochs):\n",
    "        for i, (data, lengths, labels) in enumerate(train_loader):\n",
    "            model.train()\n",
    "            data_batch, length_batch, label_batch = data, lengths, labels\n",
    "            optimizer.zero_grad()\n",
    "            outputs = model(data_batch, length_batch)\n",
    "            loss = criterion(outputs, label_batch)\n",
    "            losses.append(loss)\n",
    "            loss.backward()\n",
    "            optimizer.step()\n",
    "            # validate every 100 iterations\n",
    "            if i > 0 and i % 100 == 0:\n",
    "                # validate\n",
    "                val_acc = test_model(val_loader, model)\n",
    "                xs = xs + 100\n",
    "                val_accs.append(val_acc)\n",
    "                print('Epoch: [{}/{}], Step: [{}/{}], Validation Acc: {}'.format( \n",
    "                           epoch+1, num_epochs, i+1, len(train_loader), val_acc))\n",
    "    return losses, xs, val_accs"
   ]
  },
  {
   "cell_type": "code",
   "execution_count": null,
   "metadata": {},
   "outputs": [],
   "source": [
    "all_bigrams = list(generate_bag_ngrams(2, all_train_tokens))\n",
    "all_unigrams = list(generate_bag_ngrams(1, all_train_tokens))\n",
    "combined_one_two = all_bigrams + all_unigrams"
   ]
  },
  {
   "cell_type": "code",
   "execution_count": null,
   "metadata": {},
   "outputs": [],
   "source": [
    "print(len(combined_one_two[5000000]))"
   ]
  },
  {
   "cell_type": "code",
   "execution_count": null,
   "metadata": {},
   "outputs": [],
   "source": [
    "count = 0\n",
    "for i in range(len(id2token)):\n",
    "    if len(id2token[i]) == 2:\n",
    "        count += 1\n",
    "print(\"Length of idtoken is {}\".format(len(id2token)))\n",
    "print(\"Number of 1-gram tokens is {}\".format(len(id2token) - count))\n",
    "print(\"Number of 2-gram tokens is {}\".format(count))"
   ]
  },
  {
   "cell_type": "code",
   "execution_count": null,
   "metadata": {},
   "outputs": [],
   "source": [
    "random_token_id = random.randint(0, len(id2token)-1)\n",
    "random_token = id2token[random_token_id]\n",
    "print(random_token)"
   ]
  },
  {
   "cell_type": "markdown",
   "metadata": {},
   "source": [
    "## Full model run in one script (for quick hyperparameter tuning)"
   ]
  },
  {
   "cell_type": "code",
   "execution_count": 26,
   "metadata": {},
   "outputs": [
    {
     "name": "stdout",
     "output_type": "stream",
     "text": [
      "Token id 14111 ; token ('initial', 'release')\n",
      "Token ('initial', 'release'); token id 14111\n",
      "Train dataset size is 20000\n",
      "Val dataset size is 5000\n",
      "Test dataset size is 25000\n",
      "tensor([[    1,     1,     1,  ...,     0,     0,     0],\n",
      "        [    1,     1,   147,  ...,     0,     0,     0],\n",
      "        [ 6092,     1,     1,  ...,     0,     0,     0],\n",
      "        ...,\n",
      "        [41895,     1,     1,  ...,     0,     0,     0],\n",
      "        [ 9207,  8558,     1,  ...,     0,     0,     0],\n",
      "        [    1, 38581, 30117,  ...,     0,     0,     0]])\n",
      "tensor([139,  56,  90,  75, 200, 200, 103, 200, 200, 150, 200, 103, 149,  26,\n",
      "         65, 116, 121,  17, 104, 140, 129,  65, 146,  95, 120, 200, 200,  44,\n",
      "         72,  23,  79, 107])\n",
      "tensor([0, 1, 0, 0, 0, 0, 1, 1, 1, 1, 0, 0, 0, 1, 0, 1, 0, 1, 1, 1, 0, 1, 0, 0,\n",
      "        0, 1, 0, 0, 1, 0, 1, 0])\n"
     ]
    }
   ],
   "source": [
    "VOCAB_SIZE = 50000\n",
    "NGRAM_SIZE = 2\n",
    "EMBED_DIM = 300\n",
    "LEARNING_RATE = 0.005\n",
    "NUM_EPOCHS = 4\n",
    "\n",
    "# Building the vocabulary\n",
    "# UNCOMMENT FOR ORIGINAL tokenization scheme\n",
    "token2id, id2token = build_vocab(generate_bag_ngrams(NGRAM_SIZE, all_train_tokens))\n",
    "## TRYING MIXTURE of 1-grams and 2-grams\n",
    "# token2id, id2token = build_vocab(combined_one_two)\n",
    "\n",
    "# Lets check the dictionary by loading random token from it\n",
    "random_token_id = random.randint(0, len(id2token)-1)\n",
    "random_token = id2token[random_token_id]\n",
    "\n",
    "print (\"Token id {} ; token {}\".format(random_token_id, id2token[random_token_id]))\n",
    "print (\"Token {}; token id {}\".format(random_token, token2id[random_token]))\n",
    "\n",
    "# UNCOMMENT FOR ORIGINAL tokenization scheme\n",
    "ngram_train_data_tokens = [list(generate_bag_ngrams(NGRAM_SIZE, review)) for review in train_data_tokens]\n",
    "ngram_val_data_tokens = [list(generate_bag_ngrams(NGRAM_SIZE, review)) for review in val_data_tokens]\n",
    "ngram_test_data_tokens = [list(generate_bag_ngrams(NGRAM_SIZE, review)) for review in test_data_tokens]\n",
    "\n",
    "# ngram_train_data_tokens = [list(generate_bag_ngrams(1, review)) + list(generate_bag_ngrams(2, review)) for review in train_data_tokens]\n",
    "# ngram_val_data_tokens = [list(generate_bag_ngrams(1, review)) + list(generate_bag_ngrams(2, review)) for review in val_data_tokens]\n",
    "# ngram_test_data_tokens = [list(generate_bag_ngrams(1, review)) + list(generate_bag_ngrams(2, review)) for review in test_data_tokens]\n",
    "\n",
    "train_data_indices = token2index_dataset(ngram_train_data_tokens)\n",
    "val_data_indices = token2index_dataset(ngram_val_data_tokens)\n",
    "test_data_indices = token2index_dataset(ngram_test_data_tokens)\n",
    "\n",
    "# double checking\n",
    "print (\"Train dataset size is {}\".format(len(train_data_indices)))\n",
    "print (\"Val dataset size is {}\".format(len(val_data_indices)))\n",
    "print (\"Test dataset size is {}\".format(len(test_data_indices)))\n",
    "\n",
    "BATCH_SIZE = 32\n",
    "train_dataset = MovieReviewDataset(train_data_indices, train_labels)\n",
    "train_loader = torch.utils.data.DataLoader(dataset=train_dataset, \n",
    "                                           batch_size=BATCH_SIZE,\n",
    "                                           collate_fn=moviereview_collate_func,\n",
    "                                           shuffle=True)\n",
    "\n",
    "val_dataset = MovieReviewDataset(val_data_indices, val_labels)\n",
    "val_loader = torch.utils.data.DataLoader(dataset=val_dataset, \n",
    "                                           batch_size=BATCH_SIZE,\n",
    "                                           collate_fn=moviereview_collate_func,\n",
    "                                           shuffle=True)\n",
    "\n",
    "test_dataset = MovieReviewDataset(test_data_indices, test_labels)\n",
    "test_loader = torch.utils.data.DataLoader(dataset=test_dataset, \n",
    "                                           batch_size=BATCH_SIZE,\n",
    "                                           collate_fn=moviereview_collate_func,\n",
    "                                           shuffle=False)\n",
    "\n",
    "for i, (data, lengths, labels) in enumerate(train_loader):\n",
    "    print (data)\n",
    "    print(lengths)\n",
    "    print (labels)\n",
    "    break"
   ]
  },
  {
   "cell_type": "code",
   "execution_count": 27,
   "metadata": {},
   "outputs": [
    {
     "name": "stdout",
     "output_type": "stream",
     "text": [
      "Epoch: [1/4], Step: [101/625], Validation Acc: 55.44\n",
      "Epoch: [1/4], Step: [201/625], Validation Acc: 69.24\n",
      "Epoch: [1/4], Step: [301/625], Validation Acc: 80.48\n",
      "Epoch: [1/4], Step: [401/625], Validation Acc: 78.68\n",
      "Epoch: [1/4], Step: [501/625], Validation Acc: 79.26\n",
      "Epoch: [1/4], Step: [601/625], Validation Acc: 85.16\n",
      "Epoch: [2/4], Step: [101/625], Validation Acc: 85.1\n",
      "Epoch: [2/4], Step: [201/625], Validation Acc: 84.76\n",
      "Epoch: [2/4], Step: [301/625], Validation Acc: 83.02\n",
      "Epoch: [2/4], Step: [401/625], Validation Acc: 83.04\n",
      "Epoch: [2/4], Step: [501/625], Validation Acc: 84.1\n",
      "Epoch: [2/4], Step: [601/625], Validation Acc: 83.76\n",
      "Epoch: [3/4], Step: [101/625], Validation Acc: 84.2\n",
      "Epoch: [3/4], Step: [201/625], Validation Acc: 83.56\n",
      "Epoch: [3/4], Step: [301/625], Validation Acc: 84.18\n",
      "Epoch: [3/4], Step: [401/625], Validation Acc: 83.78\n",
      "Epoch: [3/4], Step: [501/625], Validation Acc: 83.7\n",
      "Epoch: [3/4], Step: [601/625], Validation Acc: 83.76\n"
     ]
    },
    {
     "ename": "KeyboardInterrupt",
     "evalue": "",
     "output_type": "error",
     "traceback": [
      "\u001b[0;31m---------------------------------------------------------------------------\u001b[0m",
      "\u001b[0;31mKeyboardInterrupt\u001b[0m                         Traceback (most recent call last)",
      "\u001b[0;32m<ipython-input-27-cede39abd4e7>\u001b[0m in \u001b[0;36m<module>\u001b[0;34m()\u001b[0m\n\u001b[1;32m      4\u001b[0m           \u001b[0mlr\u001b[0m \u001b[0;34m=\u001b[0m \u001b[0mLEARNING_RATE\u001b[0m\u001b[0;34m,\u001b[0m\u001b[0;34m\u001b[0m\u001b[0m\n\u001b[1;32m      5\u001b[0m           \u001b[0mnum_epochs\u001b[0m \u001b[0;34m=\u001b[0m \u001b[0mNUM_EPOCHS\u001b[0m\u001b[0;34m,\u001b[0m\u001b[0;34m\u001b[0m\u001b[0m\n\u001b[0;32m----> 6\u001b[0;31m           criterion = nn.CrossEntropyLoss())\n\u001b[0m",
      "\u001b[0;32m<ipython-input-12-c11899d96555>\u001b[0m in \u001b[0;36mtrain_model\u001b[0;34m(model, lr, num_epochs, criterion)\u001b[0m\n\u001b[1;32m     34\u001b[0m             \u001b[0mlosses\u001b[0m\u001b[0;34m.\u001b[0m\u001b[0mappend\u001b[0m\u001b[0;34m(\u001b[0m\u001b[0mloss\u001b[0m\u001b[0;34m)\u001b[0m\u001b[0;34m\u001b[0m\u001b[0m\n\u001b[1;32m     35\u001b[0m             \u001b[0mloss\u001b[0m\u001b[0;34m.\u001b[0m\u001b[0mbackward\u001b[0m\u001b[0;34m(\u001b[0m\u001b[0;34m)\u001b[0m\u001b[0;34m\u001b[0m\u001b[0m\n\u001b[0;32m---> 36\u001b[0;31m             \u001b[0moptimizer\u001b[0m\u001b[0;34m.\u001b[0m\u001b[0mstep\u001b[0m\u001b[0;34m(\u001b[0m\u001b[0;34m)\u001b[0m\u001b[0;34m\u001b[0m\u001b[0m\n\u001b[0m\u001b[1;32m     37\u001b[0m             \u001b[0;31m# validate every 100 iterations\u001b[0m\u001b[0;34m\u001b[0m\u001b[0;34m\u001b[0m\u001b[0m\n\u001b[1;32m     38\u001b[0m             \u001b[0;32mif\u001b[0m \u001b[0mi\u001b[0m \u001b[0;34m>\u001b[0m \u001b[0;36m0\u001b[0m \u001b[0;32mand\u001b[0m \u001b[0mi\u001b[0m \u001b[0;34m%\u001b[0m \u001b[0;36m100\u001b[0m \u001b[0;34m==\u001b[0m \u001b[0;36m0\u001b[0m\u001b[0;34m:\u001b[0m\u001b[0;34m\u001b[0m\u001b[0m\n",
      "\u001b[0;32m~/anaconda3/envs/nlpclass/lib/python3.6/site-packages/torch/optim/adam.py\u001b[0m in \u001b[0;36mstep\u001b[0;34m(self, closure)\u001b[0m\n\u001b[1;32m     91\u001b[0m                 \u001b[0;31m# Decay the first and second moment running average coefficient\u001b[0m\u001b[0;34m\u001b[0m\u001b[0;34m\u001b[0m\u001b[0m\n\u001b[1;32m     92\u001b[0m                 \u001b[0mexp_avg\u001b[0m\u001b[0;34m.\u001b[0m\u001b[0mmul_\u001b[0m\u001b[0;34m(\u001b[0m\u001b[0mbeta1\u001b[0m\u001b[0;34m)\u001b[0m\u001b[0;34m.\u001b[0m\u001b[0madd_\u001b[0m\u001b[0;34m(\u001b[0m\u001b[0;36m1\u001b[0m \u001b[0;34m-\u001b[0m \u001b[0mbeta1\u001b[0m\u001b[0;34m,\u001b[0m \u001b[0mgrad\u001b[0m\u001b[0;34m)\u001b[0m\u001b[0;34m\u001b[0m\u001b[0m\n\u001b[0;32m---> 93\u001b[0;31m                 \u001b[0mexp_avg_sq\u001b[0m\u001b[0;34m.\u001b[0m\u001b[0mmul_\u001b[0m\u001b[0;34m(\u001b[0m\u001b[0mbeta2\u001b[0m\u001b[0;34m)\u001b[0m\u001b[0;34m.\u001b[0m\u001b[0maddcmul_\u001b[0m\u001b[0;34m(\u001b[0m\u001b[0;36m1\u001b[0m \u001b[0;34m-\u001b[0m \u001b[0mbeta2\u001b[0m\u001b[0;34m,\u001b[0m \u001b[0mgrad\u001b[0m\u001b[0;34m,\u001b[0m \u001b[0mgrad\u001b[0m\u001b[0;34m)\u001b[0m\u001b[0;34m\u001b[0m\u001b[0m\n\u001b[0m\u001b[1;32m     94\u001b[0m                 \u001b[0;32mif\u001b[0m \u001b[0mamsgrad\u001b[0m\u001b[0;34m:\u001b[0m\u001b[0;34m\u001b[0m\u001b[0m\n\u001b[1;32m     95\u001b[0m                     \u001b[0;31m# Maintains the maximum of all 2nd moment running avg. till now\u001b[0m\u001b[0;34m\u001b[0m\u001b[0;34m\u001b[0m\u001b[0m\n",
      "\u001b[0;31mKeyboardInterrupt\u001b[0m: "
     ]
    }
   ],
   "source": [
    "model = BagOfWords(len(id2token), EMBED_DIM)\n",
    "\n",
    "losses, xs, val_accs = train_model(model,\n",
    "          lr = LEARNING_RATE, \n",
    "          num_epochs = NUM_EPOCHS, \n",
    "          criterion = nn.CrossEntropyLoss())"
   ]
  },
  {
   "cell_type": "code",
   "execution_count": 30,
   "metadata": {},
   "outputs": [
    {
     "data": {
      "text/plain": [
       "Text(0,0.5,'Val Acc')"
      ]
     },
     "execution_count": 30,
     "metadata": {},
     "output_type": "execute_result"
    },
    {
     "data": {
      "image/png": "[encoded data removed]",
      "text/plain": [
       "<Figure size 720x360 with 2 Axes>"
      ]
     },
     "metadata": {
      "needs_background": "light"
     },
     "output_type": "display_data"
    }
   ],
   "source": [
    "fig = plt.figure(figsize=(10, 5))\n",
    "fig.subplots_adjust(hspace=0.4, wspace=0.4)\n",
    "\n",
    "loss_avg_vals = []\n",
    "for i in range(0, len(losses)-100, 100):\n",
    "    s = 0\n",
    "    avg = 0\n",
    "    for j in range(i, i+100):\n",
    "        s += losses[j]\n",
    "    avg = s/100.0\n",
    "    loss_avg_vals.append(avg)\n",
    "plt.subplot(1, 2, 1)\n",
    "plt.plot(range(len(loss_avg_vals)), loss_avg_vals)\n",
    "plt.title('Training Curve')\n",
    "plt.xlabel('step')\n",
    "plt.ylabel('Train Loss')\n",
    "\n",
    "plt.subplot(1, 2, 2)\n",
    "plt.plot(range(0, xs, 100), val_accs)\n",
    "plt.title('Validation Accuracy Curve')\n",
    "plt.xlabel('Step')\n",
    "plt.ylabel('Val Acc')"
   ]
  },
  {
   "cell_type": "markdown",
   "metadata": {},
   "source": [
    "### Finding 3 correct and 3 incorrect predictions"
   ]
  },
  {
   "cell_type": "code",
   "execution_count": null,
   "metadata": {},
   "outputs": [],
   "source": [
    "model.eval()\n",
    "\n",
    "eval_dataset = MovieReviewDataset(val_data_indices, val_labels)\n",
    "eval_loader = torch.utils.data.DataLoader(dataset=val_dataset, \n",
    "                                          batch_size=1,\n",
    "                                          collate_fn=moviereview_collate_func,\n",
    "                                          shuffle=False)\n",
    "\n",
    "i = 0\n",
    "incorrect_data = []\n",
    "correct_data = []\n",
    "corr_count = 0\n",
    "incorr_count = 0\n",
    "for data, lengths, labels in eval_loader:\n",
    "        data_batch, length_batch, label_batch = data, lengths, labels\n",
    "        outputs = F.softmax(model(data_batch, length_batch), dim=1)\n",
    "        predicted = outputs.max(1, keepdim=True)[1]\n",
    "        \n",
    "        if (predicted.squeeze().item() == labels.squeeze().item() and incorr_count <= 2):\n",
    "            incorr_count += 1\n",
    "            incorrect_data.append(val_data[i])\n",
    "        elif (predicted.squeeze().item() != labels.squeeze().item() and corr_count <= 2):\n",
    "            corr_count += 1\n",
    "            correct_data.append(val_data[i])\n",
    "        i += 1\n",
    "        \n",
    "        if corr_count == 3 and incorr_count == 3:\n",
    "            break       "
   ]
  },
  {
   "cell_type": "code",
   "execution_count": null,
   "metadata": {},
   "outputs": [],
   "source": [
    "for i in range(len(correct_data)):\n",
    "    print(correct_data[i] + '\\n')"
   ]
  },
  {
   "cell_type": "code",
   "execution_count": null,
   "metadata": {},
   "outputs": [],
   "source": [
    "for i in range(len(incorrect_data)):\n",
    "    print(incorrect_data[i] + '\\n')"
   ]
  },
  {
   "cell_type": "code",
   "execution_count": null,
   "metadata": {},
   "outputs": [],
   "source": [
    "torch.tensor(0).item()"
   ]
  },
  {
   "cell_type": "code",
   "execution_count": null,
   "metadata": {},
   "outputs": [],
   "source": [
    "print (\"After training for {} epochs\".format(NUM_EPOCHS))\n",
    "print (\"Val Acc {}\".format(test_model(val_loader, model)))\n",
    "print (\"Test Acc {}\".format(test_model(test_loader, model)))"
   ]
  }
 ],
 "metadata": {
  "kernelspec": {
   "display_name": "Python 3",
   "language": "python",
   "name": "python3"
  },
  "language_info": {
   "codemirror_mode": {
    "name": "ipython",
    "version": 3
   },
   "file_extension": ".py",
   "mimetype": "text/x-python",
   "name": "python",
   "nbconvert_exporter": "python",
   "pygments_lexer": "ipython3",
   "version": "3.6.6"
  }
 },
 "nbformat": 4,
 "nbformat_minor": 2
}
